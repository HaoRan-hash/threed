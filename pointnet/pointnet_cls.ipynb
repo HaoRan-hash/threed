{
 "cells": [
  {
   "cell_type": "code",
   "execution_count": 1,
   "metadata": {},
   "outputs": [],
   "source": [
    "import torch\n",
    "import numpy as np\n",
    "import os\n",
    "from torch.utils.data import Dataset, DataLoader\n",
    "from torch import nn\n",
    "import torch.nn.functional as F\n",
    "from ignite.metrics import Accuracy\n",
    "from tqdm.notebook import tqdm"
   ]
  },
  {
   "cell_type": "markdown",
   "metadata": {},
   "source": [
    "---\n",
    "## 数据部分"
   ]
  },
  {
   "cell_type": "code",
   "execution_count": 2,
   "metadata": {},
   "outputs": [],
   "source": [
    "class ModelNet40(Dataset):\n",
    "    def __init__(self, root, split='train', npoints=1024):\n",
    "        super(ModelNet40, self).__init__()\n",
    "        self.npoints = npoints\n",
    "        self.class_to_idx = {}\n",
    "\n",
    "        with open(os.path.join(root, 'modelnet40_shape_names.txt'), 'r') as f:\n",
    "            for i, line in enumerate(f):\n",
    "                line = line.strip()\n",
    "                self.class_to_idx[line] = i\n",
    "\n",
    "        self.file_paths = []\n",
    "        self.labels = []\n",
    "        with open(os.path.join(root, 'modelnet40_'+split+'.txt'), 'r') as f:\n",
    "            for line in f:\n",
    "                line = line.strip()\n",
    "                temp = line.split('_')\n",
    "                self.file_paths.append(os.path.join(root, '_'.join(temp[0:-1]), line + '.txt'))\n",
    "                self.labels.append(self.class_to_idx['_'.join(temp[0:-1])])\n",
    "    \n",
    "    def __len__(self):\n",
    "        return len(self.file_paths)\n",
    "\n",
    "    def pcd_norm(self, points):\n",
    "        mean = points.mean(axis=0)\n",
    "        points = points - mean\n",
    "        max_dis = (np.sqrt((np.square(points)).sum(axis=1))).max()\n",
    "        points = points / max_dis\n",
    "\n",
    "        return points\n",
    "\n",
    "    def __getitem__(self, index):\n",
    "        file = self.file_paths[index]\n",
    "        label = self.labels[index]\n",
    "\n",
    "        points = np.genfromtxt(file, delimiter=',', dtype=np.float32)\n",
    "\n",
    "        points = points[0:self.npoints, :]\n",
    "\n",
    "        points[:, 0:3] = self.pcd_norm(points[:, 0:3])\n",
    "\n",
    "        return points, label"
   ]
  },
  {
   "cell_type": "code",
   "execution_count": 3,
   "metadata": {},
   "outputs": [],
   "source": [
    "train_dataset = ModelNet40('modelnet40_normal_resampled', split='train')\n",
    "test_dataset = ModelNet40('modelnet40_normal_resampled', split='test')"
   ]
  },
  {
   "cell_type": "code",
   "execution_count": 4,
   "metadata": {},
   "outputs": [
    {
     "name": "stdout",
     "output_type": "stream",
     "text": [
      "{'airplane': 0, 'bathtub': 1, 'bed': 2, 'bench': 3, 'bookshelf': 4, 'bottle': 5, 'bowl': 6, 'car': 7, 'chair': 8, 'cone': 9, 'cup': 10, 'curtain': 11, 'desk': 12, 'door': 13, 'dresser': 14, 'flower_pot': 15, 'glass_box': 16, 'guitar': 17, 'keyboard': 18, 'lamp': 19, 'laptop': 20, 'mantel': 21, 'monitor': 22, 'night_stand': 23, 'person': 24, 'piano': 25, 'plant': 26, 'radio': 27, 'range_hood': 28, 'sink': 29, 'sofa': 30, 'stairs': 31, 'stool': 32, 'table': 33, 'tent': 34, 'toilet': 35, 'tv_stand': 36, 'vase': 37, 'wardrobe': 38, 'xbox': 39}\n",
      "9843\n",
      "2468\n"
     ]
    }
   ],
   "source": [
    "print(train_dataset.class_to_idx)\n",
    "print(len(train_dataset))\n",
    "print(len(test_dataset))"
   ]
  },
  {
   "cell_type": "code",
   "execution_count": 5,
   "metadata": {},
   "outputs": [],
   "source": [
    "pcd, gt = train_dataset[0]"
   ]
  },
  {
   "cell_type": "code",
   "execution_count": 6,
   "metadata": {},
   "outputs": [
    {
     "name": "stdout",
     "output_type": "stream",
     "text": [
      "[ 5.6534191e-09 -3.8970029e-08 -2.0793777e-08 -2.2611087e-02\n",
      "  6.2716450e-03  6.5562748e-03]\n",
      "[0.18740387 0.9741179  0.99170816 ... 0.42549008 0.17417295 0.16141398]\n",
      "1.0\n"
     ]
    }
   ],
   "source": [
    "# 检验norm是否正确\n",
    "mean = pcd.mean(axis=0)\n",
    "print(mean)\n",
    "dis = np.sqrt((np.square(pcd[:, 0:3])).sum(axis=1))\n",
    "print(dis)\n",
    "max_dis = dis.max()\n",
    "print(max_dis)"
   ]
  },
  {
   "cell_type": "code",
   "execution_count": 7,
   "metadata": {},
   "outputs": [
    {
     "name": "stdout",
     "output_type": "stream",
     "text": [
      "<class 'numpy.ndarray'> <class 'int'>\n",
      "(1024, 6) float32\n"
     ]
    }
   ],
   "source": [
    "print(type(pcd), type(gt))\n",
    "print(pcd.shape, pcd.dtype)"
   ]
  },
  {
   "cell_type": "code",
   "execution_count": 8,
   "metadata": {},
   "outputs": [],
   "source": [
    "train_dataloader = DataLoader(train_dataset, batch_size=24, shuffle=True, num_workers=8)\n",
    "test_dataloader = DataLoader(test_dataset, batch_size=24, shuffle=False, num_workers=8)"
   ]
  },
  {
   "cell_type": "code",
   "execution_count": 9,
   "metadata": {},
   "outputs": [],
   "source": [
    "pcds, labels = next(iter(train_dataloader))"
   ]
  },
  {
   "cell_type": "code",
   "execution_count": 10,
   "metadata": {},
   "outputs": [
    {
     "name": "stdout",
     "output_type": "stream",
     "text": [
      "torch.Size([24, 1024, 6]) torch.float32\n",
      "torch.Size([24]) torch.int64\n"
     ]
    }
   ],
   "source": [
    "print(pcds.shape, pcds.dtype)\n",
    "print(labels.shape, labels.dtype)"
   ]
  },
  {
   "cell_type": "markdown",
   "metadata": {},
   "source": [
    "---\n",
    "## 模型部分"
   ]
  },
  {
   "cell_type": "code",
   "execution_count": 11,
   "metadata": {},
   "outputs": [],
   "source": [
    "class PointNet(nn.Module):\n",
    "    def __init__(self, class_num):\n",
    "        super(PointNet, self).__init__()\n",
    "        self.mlp_1 = nn.Sequential(nn.Conv1d(6, 64, kernel_size=1),\n",
    "                                    nn.BatchNorm1d(64),\n",
    "                                    nn.ReLU(inplace=True),\n",
    "                                    nn.Conv1d(64, 64, kernel_size=1),\n",
    "                                    nn.BatchNorm1d(64),\n",
    "                                    nn.ReLU(inplace=True),\n",
    "                                    nn.Conv1d(64, 128, kernel_size=1),\n",
    "                                    nn.BatchNorm1d(128),\n",
    "                                    nn.ReLU(inplace=True),\n",
    "                                    nn.Conv1d(128, 1024, kernel_size=1),\n",
    "                                    nn.BatchNorm1d(1024),\n",
    "                                    nn.ReLU(inplace=True))\n",
    "        self.mlp_2 = nn.Sequential(nn.Linear(1024, 512),\n",
    "                                    nn.BatchNorm1d(512),\n",
    "                                    nn.ReLU(inplace=True),\n",
    "                                    nn.Linear(512, 256),\n",
    "                                    nn.Dropout(0.4),\n",
    "                                    nn.BatchNorm1d(256),\n",
    "                                    nn.ReLU(inplace=True),\n",
    "                                    nn.Linear(256, class_num))\n",
    "    \n",
    "    def forward(self, x):\n",
    "        x = x.permute(0, 2, 1)\n",
    "        x = self.mlp_1(x)\n",
    "        x, _ = x.max(dim=2)\n",
    "        y = self.mlp_2(x)\n",
    "\n",
    "        return y"
   ]
  },
  {
   "cell_type": "code",
   "execution_count": 12,
   "metadata": {},
   "outputs": [],
   "source": [
    "def train_loop(dataloader, model, loss_fn, metric_fn, optimizer, device, cur_epoch, total_epoch, show_gap):\n",
    "    model.train()\n",
    "    if cur_epoch % show_gap == 0:\n",
    "        pbar = tqdm(dataloader, desc=f'Epoch {cur_epoch}/{total_epoch}', unit='batch')\n",
    "    else:\n",
    "        pbar = dataloader\n",
    "\n",
    "    for x, y in pbar:\n",
    "        x = x.to(device)\n",
    "        y = y.to(device)\n",
    "        optimizer.zero_grad()\n",
    "        y_pred = model(x)\n",
    "        loss = loss_fn(y_pred, y)\n",
    "        loss.backward()\n",
    "        optimizer.step()\n",
    "\n",
    "        metric_fn.reset()\n",
    "        metric_fn.update((y_pred, y))\n",
    "        acc = metric_fn.compute()\n",
    "\n",
    "        if cur_epoch % show_gap == 0:\n",
    "            pbar.set_postfix_str(f'loss={loss:.4f}, acc={acc:.4f}')"
   ]
  },
  {
   "cell_type": "code",
   "execution_count": 13,
   "metadata": {},
   "outputs": [],
   "source": [
    "def test_loop(dataloader, model, loss_fn, metric_fn, device, show_gap):\n",
    "    model.eval()\n",
    "    steps = len(dataloader)\n",
    "    loss = 0\n",
    "    acc = 0\n",
    "\n",
    "    with torch.no_grad():\n",
    "        for x, y in dataloader:\n",
    "            x = x.to(device)\n",
    "            y = y.to(device)\n",
    "            y_pred = model(x)\n",
    "            loss += loss_fn(y_pred, y)\n",
    "\n",
    "            metric_fn.reset()\n",
    "            metric_fn.update((y_pred, y))\n",
    "            acc += metric_fn.compute()\n",
    "    loss = loss / steps\n",
    "    acc = acc / steps\n",
    "\n",
    "    print(f'test_loss={loss:.4f}, test_acc={acc:.4f}')"
   ]
  },
  {
   "cell_type": "markdown",
   "metadata": {},
   "source": [
    "---\n",
    "## 开始训练"
   ]
  },
  {
   "cell_type": "code",
   "execution_count": 14,
   "metadata": {},
   "outputs": [],
   "source": [
    "device = 'cuda:0'\n",
    "\n",
    "pointnet = PointNet(40).to(device)\n",
    "loss_fn = nn.CrossEntropyLoss()\n",
    "metric_fn = Accuracy(device=device)\n",
    "optimizer = torch.optim.Adam(pointnet.parameters(), lr=0.001, weight_decay=1e-4)"
   ]
  },
  {
   "cell_type": "code",
   "execution_count": null,
   "metadata": {},
   "outputs": [],
   "source": [
    "lr_scheduler = torch.optim.lr_scheduler.CosineAnnealingLR(optimizer, 50)\n",
    "\n",
    "epochs = 50\n",
    "show_gap = 1\n",
    "for i in range(epochs):\n",
    "    train_loop(train_dataloader, pointnet, loss_fn, metric_fn, optimizer, device, i, epochs, show_gap)\n",
    "    test_loop(test_dataloader, pointnet, loss_fn, metric_fn, device, show_gap)\n",
    "    lr_scheduler.step()"
   ]
  },
  {
   "cell_type": "code",
   "execution_count": null,
   "metadata": {},
   "outputs": [],
   "source": [
    "torch.save(pointnet.state_dict(), 'pointnet_cls.pth')"
   ]
  }
 ],
 "metadata": {
  "interpreter": {
   "hash": "10e950a2d02279e5457baa6feefd0499ef078fb1b2957debc5d17c17df001893"
  },
  "kernelspec": {
   "display_name": "Python 3.8.12 ('pytorch1.10')",
   "language": "python",
   "name": "python3"
  },
  "language_info": {
   "codemirror_mode": {
    "name": "ipython",
    "version": 3
   },
   "file_extension": ".py",
   "mimetype": "text/x-python",
   "name": "python",
   "nbconvert_exporter": "python",
   "pygments_lexer": "ipython3",
   "version": "3.8.12"
  },
  "orig_nbformat": 4
 },
 "nbformat": 4,
 "nbformat_minor": 2
}
